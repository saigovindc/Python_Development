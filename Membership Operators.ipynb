{
 "cells": [
  {
   "cell_type": "code",
   "execution_count": 10,
   "id": "ab31b669-b4f1-4727-b536-455fe6127163",
   "metadata": {},
   "outputs": [
    {
     "name": "stdout",
     "output_type": "stream",
     "text": [
      "True\n",
      "False\n"
     ]
    }
   ],
   "source": [
    "# Membership Operator Contains \"in\" & \"not in\"\n",
    "\n",
    "# Example :- 1\n",
    "\n",
    "enames = [\"Rahul\",\"Sonia\",\"Govind\" ]\n",
    "print (\"Rahul\" in enames)\n",
    "print (\"Rahul\" not in enames)\n",
    "\n",
    "\n",
    "\n"
   ]
  },
  {
   "cell_type": "code",
   "execution_count": 17,
   "id": "684638fc-78f2-43c5-acb9-c58e4894c9d7",
   "metadata": {},
   "outputs": [
    {
     "name": "stdout",
     "output_type": "stream",
     "text": [
      "['Rahul']\n",
      "False\n"
     ]
    }
   ],
   "source": [
    "# Example :- 2\n",
    "\n",
    "ename = [\"Rahul\"]\n",
    "print (ename)\n",
    "print (\"R\" in ename)"
   ]
  },
  {
   "cell_type": "code",
   "execution_count": 16,
   "id": "bedf0766-6496-435b-a9dd-863222b84484",
   "metadata": {},
   "outputs": [
    {
     "name": "stdout",
     "output_type": "stream",
     "text": [
      "['Rahul']\n",
      "False\n"
     ]
    }
   ],
   "source": [
    "ename = [\"Rahul\"]\n",
    "print (ename)\n",
    "print (\"X\" in ename)"
   ]
  }
 ],
 "metadata": {
  "kernelspec": {
   "display_name": "Python 3 (ipykernel)",
   "language": "python",
   "name": "python3"
  },
  "language_info": {
   "codemirror_mode": {
    "name": "ipython",
    "version": 3
   },
   "file_extension": ".py",
   "mimetype": "text/x-python",
   "name": "python",
   "nbconvert_exporter": "python",
   "pygments_lexer": "ipython3",
   "version": "3.11.4"
  }
 },
 "nbformat": 4,
 "nbformat_minor": 5
}
