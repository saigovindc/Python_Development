{
 "cells": [
  {
   "cell_type": "code",
   "execution_count": 1,
   "id": "eea237b7-3a6f-40ca-b01d-232a403f8bcd",
   "metadata": {},
   "outputs": [
    {
     "name": "stdout",
     "output_type": "stream",
     "text": [
      "[10, 20, 30, 40, 50]\n",
      "10\n",
      "20\n",
      "30\n",
      "40\n",
      "50\n"
     ]
    }
   ],
   "source": [
    "# List Data Type \n",
    "#list representing a group of elemets as one entity\n",
    "# allowed duplicates and heterogeneous elements\n",
    "# List allows (-ve) index values also\n",
    "#list elements are stored in indexing values\n",
    "\n",
    "l1 = []    # empty list\n",
    "l1 = [10,20,30,40,50]  #creating list & list which contains elements\n",
    "#      0  1  2  3  4\n",
    "\n",
    "#reading list elements\n",
    "\n",
    "print (l1)\n",
    "print (l1[0])\n",
    "print (l1[1])\n",
    "print (l1[2])\n",
    "print (l1[3])\n",
    "print (l1[4])\n"
   ]
  },
  {
   "cell_type": "code",
   "execution_count": 6,
   "id": "adbb457a-2858-4df7-93fb-9195378bdfbb",
   "metadata": {},
   "outputs": [
    {
     "name": "stdout",
     "output_type": "stream",
     "text": [
      "30\n",
      "32\n",
      "34\n",
      "36\n"
     ]
    }
   ],
   "source": [
    "# we can iterate a list object using while nd loop comcepts\n",
    "\n",
    "#while \n",
    "\n",
    "sizes = [30,32,34,36]\n",
    "\n",
    "#initialization i=0\n",
    "#Condition i<=len()\n",
    "#INCRE/DECRE\n",
    "\n",
    "i=0\n",
    "while i<=len(sizes)-1:\n",
    "        print (sizes[i])\n",
    "        i=i+1"
   ]
  },
  {
   "cell_type": "code",
   "execution_count": 7,
   "id": "ab8371c6-e729-428a-9abc-114950279b37",
   "metadata": {},
   "outputs": [
    {
     "name": "stdout",
     "output_type": "stream",
     "text": [
      "30\n",
      "32\n",
      "34\n",
      "36\n"
     ]
    }
   ],
   "source": [
    "# for \n",
    "\n",
    "sizes = [30,32,34,36]\n",
    "\n",
    "for size in sizes:\n",
    "    print (size)\n"
   ]
  },
  {
   "cell_type": "code",
   "execution_count": 4,
   "id": "274f76db-4865-42e8-bf90-3e50d06ea055",
   "metadata": {},
   "outputs": [
    {
     "name": "stdout",
     "output_type": "stream",
     "text": [
      "[30, 32, 34, 36]\n",
      "[30, 32, 34, 36, 38]\n"
     ]
    }
   ],
   "source": [
    "#update\n",
    "\n",
    "l1 = [30,32,34,36]\n",
    "print(l1)\n",
    "l1.append(38)\n",
    "print(l1)\n"
   ]
  },
  {
   "cell_type": "code",
   "execution_count": 9,
   "id": "1c176572-f966-4ad6-ac25-729831fc4569",
   "metadata": {},
   "outputs": [
    {
     "name": "stdout",
     "output_type": "stream",
     "text": [
      "8\n",
      "3\n",
      "3\n"
     ]
    }
   ],
   "source": [
    "# we can find the length of the object by using len function\n",
    "#here we can find count the repeated elements in object by specifying a particular element\n",
    "#here we can find the index value by specifying a particular element\n",
    "\n",
    "\n",
    "l1 = [30,32,34,36,32,34,34,36]\n",
    "print(len(l1))\n",
    "print(l1.count(34))\n",
    "print(l1.index(36))\n"
   ]
  },
  {
   "cell_type": "code",
   "execution_count": 11,
   "id": "a4589e7b-ea1e-4e88-a558-ffab67481f1a",
   "metadata": {},
   "outputs": [
    {
     "name": "stdout",
     "output_type": "stream",
     "text": [
      "['David', 'Govind', 'Likhitha', 'Monika']\n",
      "['Monika', 'Likhitha', 'Govind', 'David']\n"
     ]
    }
   ],
   "source": [
    "# sorting the elements in list\n",
    "\n",
    "enames = [\"Monika\",\"Govind\",\"David\",\"Likhitha\"]\n",
    "enames.sort()\n",
    "print(enames)\n",
    "\n",
    "# if we want to sort in reverse order , we need to specify the bool value \n",
    "\n",
    "enames.sort(reverse=True)\n",
    "print (enames)"
   ]
  },
  {
   "cell_type": "code",
   "execution_count": 18,
   "id": "04d5a28e-a7dc-4ceb-a122-9742cfca3200",
   "metadata": {},
   "outputs": [
    {
     "name": "stdout",
     "output_type": "stream",
     "text": [
      "[100, 102, 103, 104, 105]\n"
     ]
    }
   ],
   "source": [
    "#here we can insert the elements in existing object by using insert function nd we must give 2 arguments\n",
    "\n",
    "ids = [100,102,103,104]\n",
    "ids.insert(4,105)\n",
    "print (ids)"
   ]
  }
 ],
 "metadata": {
  "kernelspec": {
   "display_name": "Python 3 (ipykernel)",
   "language": "python",
   "name": "python3"
  },
  "language_info": {
   "codemirror_mode": {
    "name": "ipython",
    "version": 3
   },
   "file_extension": ".py",
   "mimetype": "text/x-python",
   "name": "python",
   "nbconvert_exporter": "python",
   "pygments_lexer": "ipython3",
   "version": "3.11.4"
  }
 },
 "nbformat": 4,
 "nbformat_minor": 5
}
