{
 "cells": [
  {
   "cell_type": "code",
   "execution_count": null,
   "id": "32c4fc81-b7f3-4051-a8cd-65283a065022",
   "metadata": {},
   "outputs": [],
   "source": [
    "# In relational operators we have two types :- \n",
    "# the frst one is \"and\" and the seconf one is \"OR\"\n",
    "\n",
    "#in \"and\" statements the given 2 conditions were true  , it returns true value -----\n",
    "#in \"and\" statements the given 2 conditions were not truen means  , it returns false value -----\n",
    "\n",
    "        #  and \n",
    "\n",
    "# T    T     T (Returning Value) \n",
    "# T    F     F (Returning Value)\n",
    "# F    T     F (Returning Value)\n",
    "# F    F     F (Returning Value) \n",
    "\n",
    "\n",
    "#in \"OR\" statements the given 1 condition must be true , it returns true value -----\n",
    "#in \"OR\" statements the given 1 condition must not be true means , it returns False value  -----\n",
    "\n",
    "        #  OR\n",
    "\n",
    "# T    T     T (Returning Value) \n",
    "# T    F     T (Returning Value)\n",
    "# F    T     T (Returning Value)\n",
    "# F    F     F (Returning Value) "
   ]
  }
 ],
 "metadata": {
  "kernelspec": {
   "display_name": "Python 3 (ipykernel)",
   "language": "python",
   "name": "python3"
  },
  "language_info": {
   "codemirror_mode": {
    "name": "ipython",
    "version": 3
   },
   "file_extension": ".py",
   "mimetype": "text/x-python",
   "name": "python",
   "nbconvert_exporter": "python",
   "pygments_lexer": "ipython3",
   "version": "3.11.4"
  }
 },
 "nbformat": 4,
 "nbformat_minor": 5
}
