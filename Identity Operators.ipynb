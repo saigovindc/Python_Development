{
 "cells": [
  {
   "cell_type": "code",
   "execution_count": 2,
   "id": "f8c3a6c5-8b81-4208-bec6-33e3303464ab",
   "metadata": {},
   "outputs": [
    {
     "name": "stdout",
     "output_type": "stream",
     "text": [
      "True\n"
     ]
    }
   ],
   "source": [
    "# In Identity Operators We have 2 Types \n",
    "# one is \"is\"\n",
    "#second is \"is not\"\n",
    "\n",
    "a = 100\n",
    "b = 100\n",
    "print (a is b)"
   ]
  },
  {
   "cell_type": "code",
   "execution_count": 3,
   "id": "2378e993-ad2c-4f0d-8015-8fcf7e2560d3",
   "metadata": {},
   "outputs": [
    {
     "name": "stdout",
     "output_type": "stream",
     "text": [
      "False\n"
     ]
    }
   ],
   "source": [
    "a = 100\n",
    "b = 100\n",
    "c = 200\n",
    "print (a is c)"
   ]
  },
  {
   "cell_type": "code",
   "execution_count": 5,
   "id": "3ddc1345-5791-49a7-9d98-b2fc1fdd1d1f",
   "metadata": {},
   "outputs": [
    {
     "name": "stdout",
     "output_type": "stream",
     "text": [
      "False\n",
      "True\n",
      "False\n",
      "False\n"
     ]
    }
   ],
   "source": [
    "a = 100\n",
    "b = 100\n",
    "c = 200\n",
    "l1 = [10,20,30]\n",
    "l2 = [10,20,30]\n",
    "l3 = [\"10\",\"20\",\"30\"]\n",
    "print (l1 is l2)\n",
    "print (l1 == l2)\n",
    "print (l1 is l3)\n",
    "print (l1 == l3)"
   ]
  }
 ],
 "metadata": {
  "kernelspec": {
   "display_name": "Python 3 (ipykernel)",
   "language": "python",
   "name": "python3"
  },
  "language_info": {
   "codemirror_mode": {
    "name": "ipython",
    "version": 3
   },
   "file_extension": ".py",
   "mimetype": "text/x-python",
   "name": "python",
   "nbconvert_exporter": "python",
   "pygments_lexer": "ipython3",
   "version": "3.11.4"
  }
 },
 "nbformat": 4,
 "nbformat_minor": 5
}
