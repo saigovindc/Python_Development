{
 "cells": [
  {
   "cell_type": "code",
   "execution_count": 26,
   "id": "7b72d76c-f306-45a7-a1ba-a2865a6cd689",
   "metadata": {},
   "outputs": [
    {
     "name": "stdout",
     "output_type": "stream",
     "text": [
      "70\n",
      "<class 'int'>\n"
     ]
    }
   ],
   "source": [
    "# In Python We have no.of data types they are :- \n",
    "#int \n",
    "#float \n",
    "#string\n",
    "#complex\n",
    "#bool\n",
    "#byte\n",
    "#bytearray\n",
    "#list\n",
    "#tuple\n",
    "#set\n",
    "#dict\n",
    "#frozenset\n",
    "\n",
    "\n",
    "#int DATA TYPE\n",
    "a = 20\n",
    "b = 50\n",
    "print (a+b)\n",
    "print (type(a+b))"
   ]
  },
  {
   "cell_type": "code",
   "execution_count": 27,
   "id": "73074f90-d580-4d72-b196-7b6e13de9576",
   "metadata": {},
   "outputs": [
    {
     "name": "stdout",
     "output_type": "stream",
     "text": [
      "70.5\n",
      "<class 'float'>\n"
     ]
    }
   ],
   "source": [
    "#float DATA TYPE\n",
    "a = 20.5\n",
    "b = 50\n",
    "print (a+b)\n",
    "print (type(a+b))"
   ]
  },
  {
   "cell_type": "code",
   "execution_count": 31,
   "id": "64c6f8e5-cd42-4006-8d53-f12d8e25d85e",
   "metadata": {},
   "outputs": [
    {
     "name": "stdout",
     "output_type": "stream",
     "text": [
      "Sai Govind\n",
      "<class 'str'>\n"
     ]
    }
   ],
   "source": [
    "#string DATA TYPE\n",
    "a = \"Sai \"\n",
    "b = \"Govind\"\n",
    "print (a+b)\n",
    "print (type(a+b))"
   ]
  },
  {
   "cell_type": "code",
   "execution_count": 32,
   "id": "dec39fd1-58c1-4913-adb9-f2b6a2677f59",
   "metadata": {},
   "outputs": [
    {
     "ename": "SyntaxError",
     "evalue": "invalid decimal literal (3443497931.py, line 2)",
     "output_type": "error",
     "traceback": [
      "\u001b[1;36m  Cell \u001b[1;32mIn[32], line 2\u001b[1;36m\u001b[0m\n\u001b[1;33m    a = 10i\u001b[0m\n\u001b[1;37m         ^\u001b[0m\n\u001b[1;31mSyntaxError\u001b[0m\u001b[1;31m:\u001b[0m invalid decimal literal\n"
     ]
    }
   ],
   "source": [
    "#Complex DATA TYPE\n",
    "a = 10i\n",
    "b = 20j\n",
    "print (type(a+b))"
   ]
  }
 ],
 "metadata": {
  "kernelspec": {
   "display_name": "Python 3 (ipykernel)",
   "language": "python",
   "name": "python3"
  },
  "language_info": {
   "codemirror_mode": {
    "name": "ipython",
    "version": 3
   },
   "file_extension": ".py",
   "mimetype": "text/x-python",
   "name": "python",
   "nbconvert_exporter": "python",
   "pygments_lexer": "ipython3",
   "version": "3.11.4"
  }
 },
 "nbformat": 4,
 "nbformat_minor": 5
}
