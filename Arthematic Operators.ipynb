{
 "cells": [
  {
   "cell_type": "code",
   "execution_count": 1,
   "id": "27d1316f-1590-4fe2-a50e-feb28be538b2",
   "metadata": {},
   "outputs": [
    {
     "name": "stdout",
     "output_type": "stream",
     "text": [
      "100\n"
     ]
    }
   ],
   "source": [
    "# Addition Operator\n",
    "\n",
    "a = 50  \n",
    "b = 50\n",
    "print (a+b)\n"
   ]
  },
  {
   "cell_type": "code",
   "execution_count": 1,
   "id": "d257544a-fb6a-476f-9d8c-7570c3e38229",
   "metadata": {},
   "outputs": [
    {
     "name": "stdout",
     "output_type": "stream",
     "text": [
      "20\n"
     ]
    }
   ],
   "source": [
    "# substraction Operator\n",
    "\n",
    "a = 50\n",
    "b = 30\n",
    "print (a-b)"
   ]
  },
  {
   "cell_type": "code",
   "execution_count": 2,
   "id": "b27a78b5-6ad1-4da3-b9dc-6cb03c255b44",
   "metadata": {},
   "outputs": [
    {
     "name": "stdout",
     "output_type": "stream",
     "text": [
      "200\n"
     ]
    }
   ],
   "source": [
    "# Multiplication Operator part-1\n",
    "\n",
    "a = 10\n",
    "b = 20\n",
    "print (a*b)"
   ]
  },
  {
   "cell_type": "code",
   "execution_count": 15,
   "id": "b4868842-5904-4c65-a064-78fc6709d4d2",
   "metadata": {},
   "outputs": [
    {
     "name": "stdout",
     "output_type": "stream",
     "text": [
      " Govind  Govind  Govind  Govind  Govind \n"
     ]
    }
   ],
   "source": [
    "# Multiplication Operator part-2\n",
    "\n",
    "a = 5\n",
    "b = \" Govind \"\n",
    "print (a*b)"
   ]
  },
  {
   "cell_type": "code",
   "execution_count": 3,
   "id": "3cc6e9d3-acfe-4f29-b295-d922730dc108",
   "metadata": {},
   "outputs": [
    {
     "name": "stdout",
     "output_type": "stream",
     "text": [
      "0.5\n"
     ]
    }
   ],
   "source": [
    "# Division Operator  # This Operator Shows Float Values\n",
    "\n",
    "a = 10\n",
    "b = 20\n",
    "print (a/b)"
   ]
  },
  {
   "cell_type": "code",
   "execution_count": 8,
   "id": "0eba167b-9e35-46ec-af81-df9a62c3b0e5",
   "metadata": {},
   "outputs": [
    {
     "name": "stdout",
     "output_type": "stream",
     "text": [
      "0\n"
     ]
    }
   ],
   "source": [
    "# Floor Division Operator  # This Operator Shows Integer Values\n",
    "\n",
    "a = 10\n",
    "b = 20\n",
    "print (a//b)"
   ]
  },
  {
   "cell_type": "code",
   "execution_count": 10,
   "id": "54a7e0bf-3981-4c8d-8f72-e9ee60a91010",
   "metadata": {},
   "outputs": [
    {
     "name": "stdout",
     "output_type": "stream",
     "text": [
      "97656250000000000\n"
     ]
    }
   ],
   "source": [
    "# Exponentiation Operator \n",
    "\n",
    "a = 50\n",
    "b = 10\n",
    "print (a**b)"
   ]
  },
  {
   "cell_type": "code",
   "execution_count": 11,
   "id": "7d42eccf-cd22-44f4-8ab0-58ece9e84e5d",
   "metadata": {},
   "outputs": [
    {
     "name": "stdout",
     "output_type": "stream",
     "text": [
      "0\n"
     ]
    }
   ],
   "source": [
    "# Modulo Division Operator\n",
    "\n",
    "a = 50\n",
    "b = 10\n",
    "print (a%b)"
   ]
  }
 ],
 "metadata": {
  "kernelspec": {
   "display_name": "Python 3 (ipykernel)",
   "language": "python",
   "name": "python3"
  },
  "language_info": {
   "codemirror_mode": {
    "name": "ipython",
    "version": 3
   },
   "file_extension": ".py",
   "mimetype": "text/x-python",
   "name": "python",
   "nbconvert_exporter": "python",
   "pygments_lexer": "ipython3",
   "version": "3.11.4"
  }
 },
 "nbformat": 4,
 "nbformat_minor": 5
}
